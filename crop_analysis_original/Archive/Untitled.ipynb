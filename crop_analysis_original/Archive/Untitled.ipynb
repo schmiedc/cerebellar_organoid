{
 "cells": [
  {
   "cell_type": "code",
   "execution_count": 1,
   "metadata": {},
   "outputs": [],
   "source": [
    "import pandas as pd\n",
    "import numpy as np\n",
    "import seaborn as sns\n",
    "import matplotlib.pyplot as plt\n",
    "import glob\n",
    "import os\n",
    "import re"
   ]
  },
  {
   "cell_type": "code",
   "execution_count": 2,
   "metadata": {},
   "outputs": [],
   "source": [
    "input_dir = '/run/user/1338/gvfs/smb-share:server=storage.fht.org,share=jug/projects/SpotDetection/3rdCropNew/'\n",
    "#input_dir = '/run/user/1338/gvfs/smb-share:server=storage.fht.org,share=cerebellarorganoids/Crops/'\n",
    "output_dir = '/run/user/1338/gvfs/smb-share:server=storage.fht.org,share=cerebellarorganoids/Crops/'"
   ]
  },
  {
   "cell_type": "code",
   "execution_count": 3,
   "metadata": {},
   "outputs": [],
   "source": [
    "# crops_file_list = sorted(glob.glob(input_dir + '/2ndCrop/' + '*.csv', recursive=True))\n",
    "crops_file_list = sorted(glob.glob(input_dir + '*.csv', recursive=True))"
   ]
  },
  {
   "cell_type": "code",
   "execution_count": 4,
   "metadata": {},
   "outputs": [],
   "source": [
    "crop_files = []\n",
    "\n",
    "for file in crops_file_list:\n",
    "    exp_name_full = file.split(os.path.sep)[-1]\n",
    "    exp_name_list =  exp_name_full.split('-')\n",
    "\n",
    "    file = pd.read_csv(file)\n",
    "    file['date'] = exp_name_list[2]\n",
    "    file['time'] = exp_name_list[3]\n",
    "    file['experiment'] = exp_name_list[1]\n",
    "    file['name'] = exp_name_list[4]\n",
    "    file['stack'] = exp_name_list[5].split('.')[0]\n",
    "\n",
    "    crop_files.append(file)"
   ]
  },
  {
   "cell_type": "code",
   "execution_count": 5,
   "metadata": {},
   "outputs": [
    {
     "data": {
      "text/plain": [
       "'/run/user/1338/gvfs/smb-share:server=storage.fht.org,share=jug/projects/SpotDetection/3rdCropNew/Results-3-20220328-14-1B-000.csv'"
      ]
     },
     "execution_count": 5,
     "metadata": {},
     "output_type": "execute_result"
    }
   ],
   "source": [
    "crops_file_list[0]"
   ]
  },
  {
   "cell_type": "code",
   "execution_count": 6,
   "metadata": {},
   "outputs": [
    {
     "name": "stdout",
     "output_type": "stream",
     "text": [
      "<class 'pandas.core.frame.DataFrame'>\n",
      "Int64Index: 84 entries, 0 to 0\n",
      "Data columns (total 11 columns):\n",
      " #   Column      Non-Null Count  Dtype  \n",
      "---  ------      --------------  -----  \n",
      " 0               84 non-null     int64  \n",
      " 1   Area        84 non-null     float64\n",
      " 2   Circ.       84 non-null     float64\n",
      " 3   AR          84 non-null     float64\n",
      " 4   Round       84 non-null     float64\n",
      " 5   Solidity    84 non-null     float64\n",
      " 6   date        84 non-null     object \n",
      " 7   time        84 non-null     object \n",
      " 8   experiment  84 non-null     object \n",
      " 9   name        84 non-null     object \n",
      " 10  stack       84 non-null     object \n",
      "dtypes: float64(5), int64(1), object(5)\n",
      "memory usage: 7.9+ KB\n"
     ]
    }
   ],
   "source": [
    "kinetics_files = pd.concat(crop_files)\n",
    "# kinetics_files.to_csv(output_dir + 'full_crops_exp2.csv')\n",
    "kinetics_files.to_csv(output_dir + 'full_crops_exp3.csv')\n",
    "kinetics_files.info()"
   ]
  },
  {
   "cell_type": "code",
   "execution_count": null,
   "metadata": {},
   "outputs": [],
   "source": []
  },
  {
   "cell_type": "code",
   "execution_count": null,
   "metadata": {},
   "outputs": [],
   "source": []
  }
 ],
 "metadata": {
  "kernelspec": {
   "display_name": "Python 3",
   "language": "python",
   "name": "python3"
  },
  "language_info": {
   "codemirror_mode": {
    "name": "ipython",
    "version": 3
   },
   "file_extension": ".py",
   "mimetype": "text/x-python",
   "name": "python",
   "nbconvert_exporter": "python",
   "pygments_lexer": "ipython3",
   "version": "3.8.3"
  }
 },
 "nbformat": 4,
 "nbformat_minor": 4
}
